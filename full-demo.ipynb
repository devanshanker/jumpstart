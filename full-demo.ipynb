{
 "cells": [
  {
   "cell_type": "code",
   "execution_count": 16,
   "id": "1426854e-1ad9-43b3-ab72-001b646ddb6b",
   "metadata": {},
   "outputs": [],
   "source": [
    "# from dotenv import load_dotenv, find_dotenv\n",
    "# load_dotenv(find_dotenv())\n"
   ]
  },
  {
   "cell_type": "code",
   "execution_count": 17,
   "metadata": {},
   "outputs": [],
   "source": [
    "from langchain.schema import (\n",
    "    AIMessage,\n",
    "    HumanMessage,\n",
    "    SystemMessage\n",
    ")\n",
    "from langchain.chat_models import ChatOpenAI\n",
    "from langchain.llms import OpenAI\n",
    "\n",
    "from langchain.chains import ConversationChain\n",
    "from langchain.memory import ConversationBufferMemory\n",
    "\n",
    "from langchain.prompts import ChatPromptTemplate, SystemMessagePromptTemplate, MessagesPlaceholder, HumanMessagePromptTemplate\n",
    "from langchain.chains import ConversationChain"
   ]
  },
  {
   "cell_type": "code",
   "execution_count": 18,
   "metadata": {},
   "outputs": [
    {
     "name": "stdout",
     "output_type": "stream",
     "text": [
      "User Idea: floral hipster retro shirt brand\n"
     ]
    }
   ],
   "source": [
    "user_idea = 'NBA hip-hop fashion'\n",
    "if True: user_idea = input('As a passionate creator, your brand has a unique essence waiting to be shared with the world. In 1-2 sentences, describe your brand\\'s core goal and style. For example, you might want to create a hipster floral fashion line that blends vintage charm with modern aesthetics.')\n",
    "print(f'User Idea: {user_idea}')"
   ]
  },
  {
   "cell_type": "code",
   "execution_count": 19,
   "metadata": {},
   "outputs": [],
   "source": [
    "llm = OpenAI(model_name='text-davinci-003', openai_api_key=api_key, max_tokens=-1)"
   ]
  },
  {
   "cell_type": "code",
   "execution_count": 20,
   "id": "df39aeb8",
   "metadata": {},
   "outputs": [
    {
     "name": "stdout",
     "output_type": "stream",
     "text": [
      "System Prompt: As a passionate and helpful design visionary, you help brands define a unique ethos and line of products to be shared with the world. Human Prompt: I am a passionate creator hoping to help my brand find a unique essence to share with the world. Write a full paragraph defining the core brand ethos and style of my brand, including examples of products I might sell. Here is a short description of my brand offering: floral hipster retro shirt brand\n"
     ]
    }
   ],
   "source": [
    "system_prompt = 'System Prompt: As a passionate and helpful design visionary, you help brands define a unique ethos and line of products to be shared with the world.'\n",
    "ethos_prompt = 'Human Prompt: I am a passionate creator hoping to help my brand find a unique essence to share with the world. Write a full paragraph defining the core brand ethos and style of my brand, including examples of products I might sell. Here is a short description of my brand offering:'\n",
    "\n",
    "init_prompt = f'{system_prompt} {ethos_prompt} {user_idea}'\n",
    "print(init_prompt)"
   ]
  },
  {
   "cell_type": "code",
   "execution_count": 21,
   "metadata": {},
   "outputs": [
    {
     "name": "stdout",
     "output_type": "stream",
     "text": [
      "Initial output:  Your brand ethos is all about modernizing vintage style with a modern, floral twist. Your products include shirts, dresses, and other apparel with vibrant floral prints and patterns. The cuts are modern and the colors are bright and bold, making your products stand out in the market. The retro feel of the pieces is juxtaposed with a modern, hipster edge that is sure to be a hit with the younger crowd. You could also offer accessories such as hats, bags, and jewelry that features your signature floral prints.\n",
      " Your brand ethos is all about modernizing vintage style with a modern, floral twist. Your products focus primarily on shirts and scarves, featuring vibrant floral prints and patterns. The cuts are modern and the colors are bright and bold, making your products stand out in the market. The retro feel of the pieces is juxtaposed with a modern, hipster edge that is sure to be a hit with the younger crowd.\n",
      "\n"
     ]
    }
   ],
   "source": [
    "conversation = ConversationChain(llm=llm, memory=ConversationBufferMemory())\n",
    "init_output = conversation.run(init_prompt)\n",
    "print(f'Initial output: {init_output}')\n",
    "feedback = input('Input feedback here (enter to skip):')\n",
    "output = init_output\n",
    "while feedback:\n",
    "    ethos_update = f'Please update the previous output to account for the following user feedback: {feedback}. Please ONLY output the updated description, do NOT provide any additional text.'\n",
    "    output = conversation.run(ethos_update)\n",
    "    print(f'Updated output: {output}\\n')\n",
    "    feedback = input('Input feedback here (enter to skip):')\n",
    "final_ethos = output"
   ]
  },
  {
   "cell_type": "code",
   "execution_count": 22,
   "id": "cfdaf672",
   "metadata": {},
   "outputs": [
    {
     "name": "stdout",
     "output_type": "stream",
     "text": [
      "Initial output:  Sure! Here is your numbered catalog of 5 items for the floral hipster retro shirt brand following the aesthetic:\n",
      "\n",
      "1. Floral Print Shirt: This comfortable, lightweight shirt features a vibrant floral print on a navy background. The modern cut and classic colors make this shirt an easy way to add a touch of retro style to your wardrobe.\n",
      "\n",
      "2. Striped Scarf: This oversized scarf features a bold striped pattern in bright colors. The lightweight fabric is soft and airy, perfect for adding a pop of color to your outfit.\n",
      "\n",
      "3. Denim Shirt: This classic denim shirt features a unique floral print on the front and back. The retro-inspired cut and bright colors make this a perfect piece for adding a modern, hipster edge to your look.\n",
      "\n",
      "4. Floral Bomber Jacket: This unique bomber jacket features a bold, floral print on a black background. The modern cut and bright colors make this a great way to add a touch of retro style to your wardrobe.\n",
      "\n",
      "5. Floral Print Dress: This comfortable, lightweight dress features a vibrant floral print on a navy background. The modern cut and classic colors make this dress an easy way to add a retro feel with a modern, hipster edge.\n"
     ]
    }
   ],
   "source": [
    "# Assume we have a solid brand statement\n",
    "# Now, generate catalog\n",
    "# Inputs:\n",
    "#     1) what is it that we want to create (very first idea)\n",
    "#     2) aesthetic statement\n",
    "idea = user_idea # \"fashion label\" # Replace this, TODO: @DEVAN\n",
    "aesthetic = final_ethos # output \"Bold statement pieces for free-spirited fashionistas. #hipsterfloral\" # Replace this, TODO: @DEVAN\n",
    "\n",
    "\n",
    "conversation_buf = ConversationChain(\n",
    "    llm=llm,\n",
    "    memory=ConversationBufferMemory()\n",
    ")\n",
    "\n",
    "catalog_output = conversation_buf.run(\"Create a numbered catalog of exactly 5 items for \" + idea + \" following the aesthetic \" + aesthetic + \". Provide descriptions of up to 400 characters for each item.\")\n",
    "print(f'Initial output: {catalog_output}')\n",
    "feedback = input('Input feedback here (enter to skip):')\n",
    "while feedback:\n",
    "    update = f'{feedback}. Make sure to maintain the brand\\'s aethetic. Please print the full new numbered list with this change applied.'\n",
    "    output = conversation_buf.run(feedback)\n",
    "    print(f'{output}\\n')\n",
    "    feedback = input('Input feedback here (enter to skip):')\n"
   ]
  },
  {
   "cell_type": "code",
   "execution_count": 23,
   "id": "20ea6a17",
   "metadata": {},
   "outputs": [
    {
     "name": "stdout",
     "output_type": "stream",
     "text": [
      " Sure! Here is your printed numbered catalog with periods:\n",
      "\n",
      "1. Floral Print Shirt: This comfortable, lightweight shirt features a vibrant floral print on a navy background. The modern cut and classic colors make this shirt an easy way to add a touch of retro style to your wardrobe.\n",
      "\n",
      "2. Striped Scarf: This oversized scarf features a bold striped pattern in bright colors. The lightweight fabric is soft and airy, perfect for adding a pop of color to your outfit.\n",
      "\n",
      "3. Denim Shirt: This classic denim shirt features a unique floral print on the front and back. The retro-inspired cut and bright colors make this a perfect piece for adding a modern, hipster edge to your look.\n",
      "\n",
      "4. Floral Bomber Jacket: This unique bomber jacket features a bold, floral print on a black background. The modern cut and bright colors make this a great way to add a touch of retro style to your wardrobe.\n",
      "\n",
      "5. Floral Print Dress: This comfortable, lightweight dress features a vibrant floral print on a navy background. The modern cut and classic colors make this dress an easy way to add a retro feel with a modern, hipster edge.\n",
      "List:\n",
      "Floral Print Shirt: This comfortable, lightweight shirt features a vibrant floral print on a navy background. The modern cut and classic colors make this shirt an easy way to add a touch of retro style to your wardrobe.\n",
      "Striped Scarf: This oversized scarf features a bold striped pattern in bright colors. The lightweight fabric is soft and airy, perfect for adding a pop of color to your outfit.\n",
      "Denim Shirt: This classic denim shirt features a unique floral print on the front and back. The retro-inspired cut and bright colors make this a perfect piece for adding a modern, hipster edge to your look.\n",
      "Floral Bomber Jacket: This unique bomber jacket features a bold, floral print on a black background. The modern cut and bright colors make this a great way to add a touch of retro style to your wardrobe.\n",
      "Floral Print Dress: This comfortable, lightweight dress features a vibrant floral print on a navy background. The modern cut and classic colors make this dress an easy way to add a retro feel with a modern, hipster edge.\n"
     ]
    }
   ],
   "source": [
    "catalog_output = conversation_buf.run(\"Please print the final numbered catalog. Format the numbers with periods (for example, 1.)\")\n",
    "print(catalog_output)\n",
    "\n",
    "import re\n",
    "regex = re.compile('([\\d]+\\. )(.*?)(?=([\\d]+\\.)|($))', re.DOTALL)\n",
    "regex_list = re.findall(regex, catalog_output)\n",
    "catalog_list = []\n",
    "for i in regex_list:\n",
    "    catalog_list.append(i[1].replace(\"\\\\n\", \"\").strip())\n",
    "\n",
    "print(\"List:\")\n",
    "for item in catalog_list:\n",
    "    print(item)"
   ]
  },
  {
   "cell_type": "code",
   "execution_count": 24,
   "metadata": {},
   "outputs": [
    {
     "name": "stdout",
     "output_type": "stream",
     "text": [
      "https://oaidalleapiprodscus.blob.core.windows.net/private/org-w1ImX5DMvyWYcbHUaM2f5MxP/user-0Ddqncd5AwHvQk6iJPVd69s2/img-qHIF4WaMfYjHlicAmVSQSJTf.png?st=2023-10-15T02%3A06%3A57Z&se=2023-10-15T04%3A06%3A57Z&sp=r&sv=2021-08-06&sr=b&rscd=inline&rsct=image/png&skoid=6aaadede-4fb3-4698-a8f6-684d7786b067&sktid=a48cca56-e6da-484e-a814-9c849652bcb3&skt=2023-10-14T21%3A54%3A31Z&ske=2023-10-15T21%3A54%3A31Z&sks=b&skv=2021-08-06&sig=V8fFdtZVGzJIpNmoI2/tMeA3zZAdhNKt2tqw3YWcjLY%3D\n",
      "Image saved as images/test0.png\n"
     ]
    }
   ],
   "source": [
    "import langchain\n",
    "from langchain.llms import OpenAI\n",
    "import os\n",
    "from langchain.utilities.dalle_image_generator import DallEAPIWrapper\n",
    "from langchain.prompts import PromptTemplate\n",
    "from langchain.chains import LLMChain\n",
    "from langchain.llms import OpenAI\n",
    "\n",
    "import requests\n",
    "from PIL import Image\n",
    "from io import BytesIO\n",
    "\n",
    "os.environ[\"OPENAI_API_KEY\"] = api_key\n",
    "\n",
    "prompt = PromptTemplate(\n",
    "    input_variables=[\"image_desc\"],\n",
    "    template=\"Generate an article of clothing based on this description: {image_desc}\",\n",
    ")\n",
    "chain = LLMChain(llm=llm, prompt=prompt)\n",
    "\n",
    "for i, item in enumerate(catalog_list):\n",
    "    # Run DALL-E API\n",
    "    #image_url = DallEAPIWrapper().run(chain.run(aesthetic))\n",
    "    image_url = DallEAPIWrapper().run(item)\n",
    "\n",
    "    # Directory where you want to save the image\n",
    "    save_directory = \"images/\"  # Replace with the actual directory path\n",
    "\n",
    "    # Ensure the directory exists or create it if necessary\n",
    "    if not os.path.exists(save_directory):\n",
    "        os.makedirs(save_directory)\n",
    "\n",
    "    try:\n",
    "        # Fetch the image from the URL\n",
    "        response = requests.get(image_url)\n",
    "        print(image_url)\n",
    "\n",
    "        # Check if the request was successful\n",
    "        if response.status_code == 200:\n",
    "            # Open the image using PIL\n",
    "            image = Image.open(BytesIO(response.content))\n",
    "\n",
    "            # Extract the file name from the URL and change the extension to PNG\n",
    "            filename = os.path.join(save_directory, f\"test{i}.png\")\n",
    "\n",
    "            # Save the image as a PNG file in the specified directory\n",
    "            image.save(filename, \"PNG\")\n",
    "            print(f\"Image saved as {filename}\")\n",
    "        else:\n",
    "            print(f\"Failed to fetch the image. Status code: {response.status_code}\")\n",
    "    except Exception as e:\n",
    "        print(f\"An error occurred: {str(e)}\")"
   ]
  },
  {
   "cell_type": "code",
   "execution_count": null,
   "metadata": {},
   "outputs": [],
   "source": []
  }
 ],
 "metadata": {
  "kernelspec": {
   "display_name": "Python 3 (ipykernel)",
   "language": "python",
   "name": "python3"
  },
  "language_info": {
   "codemirror_mode": {
    "name": "ipython",
    "version": 3
   },
   "file_extension": ".py",
   "mimetype": "text/x-python",
   "name": "python",
   "nbconvert_exporter": "python",
   "pygments_lexer": "ipython3",
   "version": "3.8.18"
  }
 },
 "nbformat": 4,
 "nbformat_minor": 5
}
